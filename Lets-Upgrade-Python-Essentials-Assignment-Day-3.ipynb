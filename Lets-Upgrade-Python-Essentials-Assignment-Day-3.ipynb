{
 "cells": [
  {
   "cell_type": "markdown",
   "metadata": {},
   "source": [
    "# Day-3-Assignment-1"
   ]
  },
  {
   "cell_type": "markdown",
   "metadata": {},
   "source": [
    "### Q)You all are pilots,you have to land a plane,the altitude required for landing a plane is 1000ft,if it is less than that tell pilot to land the plane,or it is more than that but less than 5000ft ask the pilot to \"come down to 1000ft\" else if it is more than 5000ft ask the pilot to \"go around and try later\"."
   ]
  },
  {
   "cell_type": "code",
   "execution_count": 1,
   "metadata": {},
   "outputs": [
    {
     "name": "stdout",
     "output_type": "stream",
     "text": [
      "enter the altitude:1000\n",
      "Safe to land\n"
     ]
    }
   ],
   "source": [
    "altitude=int(input(\"enter the altitude:\"))\n",
    "if altitude<=1000:\n",
    "    print(\"Safe to land\")\n",
    "elif altitude<5000:\n",
    "    print(\"bring down to 1000\")\n",
    "else:\n",
    "    print(\"Turn around\")"
   ]
  },
  {
   "cell_type": "code",
   "execution_count": 2,
   "metadata": {},
   "outputs": [
    {
     "name": "stdout",
     "output_type": "stream",
     "text": [
      "enter the altitude:4500\n",
      "bring down to 1000\n"
     ]
    }
   ],
   "source": [
    "altitude=int(input(\"enter the altitude:\"))\n",
    "if altitude<=1000:\n",
    "    print(\"Safe to land\")\n",
    "elif altitude<5000:\n",
    "    print(\"bring down to 1000\")\n",
    "else:\n",
    "    print(\"Turn around\")"
   ]
  },
  {
   "cell_type": "code",
   "execution_count": 3,
   "metadata": {},
   "outputs": [
    {
     "name": "stdout",
     "output_type": "stream",
     "text": [
      "enter the altitude:6500\n",
      "Turn around\n"
     ]
    }
   ],
   "source": [
    "altitude=int(input(\"enter the altitude:\"))\n",
    "if altitude<=1000:\n",
    "    print(\"Safe to land\")\n",
    "elif altitude<5000:\n",
    "    print(\"bring down to 1000\")\n",
    "else:\n",
    "    print(\"Turn around\")"
   ]
  },
  {
   "cell_type": "markdown",
   "metadata": {},
   "source": [
    "# Day-3-Assignment-2"
   ]
  },
  {
   "cell_type": "markdown",
   "metadata": {},
   "source": [
    "### Q)print all the prime numbers between 1-200 (using For loop and Range Function)"
   ]
  },
  {
   "cell_type": "code",
   "execution_count": 4,
   "metadata": {},
   "outputs": [
    {
     "name": "stdout",
     "output_type": "stream",
     "text": [
      "2,3,5,7,11,13,17,19,23,29,31,37,41,43,47,53,59,61,67,71,73,79,83,89,97,101,103,107,109,113,127,131,137,139,149,151,157,163,167,173,179,181,191,193,197,199,"
     ]
    }
   ],
   "source": [
    "for num in range(1,201):\n",
    "    if num > 1:\n",
    "        for i in range(2,num):\n",
    "            if (num % i) == 0:\n",
    "                break\n",
    "        else:\n",
    "            print(num,end=\",\")"
   ]
  }
 ],
 "metadata": {
  "kernelspec": {
   "display_name": "Python 3",
   "language": "python",
   "name": "python3"
  },
  "language_info": {
   "codemirror_mode": {
    "name": "ipython",
    "version": 3
   },
   "file_extension": ".py",
   "mimetype": "text/x-python",
   "name": "python",
   "nbconvert_exporter": "python",
   "pygments_lexer": "ipython3",
   "version": "3.8.3"
  }
 },
 "nbformat": 4,
 "nbformat_minor": 4
}
